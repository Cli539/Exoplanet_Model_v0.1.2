{
 "cells": [
  {
   "cell_type": "code",
   "execution_count": 27,
   "metadata": {},
   "outputs": [],
   "source": [
    "class Star():\n",
    "    def __init__(self, mass, radius, distance):\n",
    "        self.mass = mass\n",
    "        self.radius = radius # radius of star\n",
    "        self.distance = distance\n",
    "        self.type = self.classify()\n",
    "        \n",
    "    def classify(self):\n",
    "        if self.mass < 10:\n",
    "            return(\"R\")\n",
    "        elif self.mass >= 10 and self.mass < 20:\n",
    "            return(\"Y\")\n",
    "        elif self.mass > 20:\n",
    "            return(\"W\")\n",
    "            \n",
    "class Planet():\n",
    "    def __init__(self, mass, radius, orbital_radius):\n",
    "        self.mass = mass\n",
    "        self.radius = radius # radius of planet\n",
    "        self.orbital_radius = orbital_radius # distance between radii of star and planet\n",
    "        \n",
    "        \n",
    "        \n",
    "def main():\n",
    "     \n"
   ]
  },
  {
   "cell_type": "code",
   "execution_count": null,
   "metadata": {},
   "outputs": [],
   "source": []
  }
 ],
 "metadata": {
  "kernelspec": {
   "display_name": "Python 3",
   "language": "python",
   "name": "python3"
  },
  "language_info": {
   "codemirror_mode": {
    "name": "ipython",
    "version": 3
   },
   "file_extension": ".py",
   "mimetype": "text/x-python",
   "name": "python",
   "nbconvert_exporter": "python",
   "pygments_lexer": "ipython3",
   "version": "3.6.7"
  }
 },
 "nbformat": 4,
 "nbformat_minor": 2
}
